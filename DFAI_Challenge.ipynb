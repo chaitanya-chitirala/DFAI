{
  "nbformat": 4,
  "nbformat_minor": 0,
  "metadata": {
    "colab": {
      "provenance": [],
      "collapsed_sections": []
    },
    "kernelspec": {
      "name": "python3",
      "display_name": "Python 3"
    },
    "language_info": {
      "name": "python"
    },
    "accelerator": "GPU"
  },
  "cells": [
    {
      "cell_type": "markdown",
      "source": [
        "Q1:\n",
        "\n",
        "The given images with pixel data is similar to a data being represented in an array. We can use either \"Nested Lists\" or \"Arrays\" to store this information. But using \"Nested Lists\" would cost a lot of storage, especially for the given large image data (100,000 x 100,000 pixels), as lists can store data of multiple datatypes. While in our case, we want to store either of the 2 values representing each pixel, i.e., \"Black\" for the blob region that is parasite body or the dye region and \"White\" for outside the blob or dye region. This translates to usage of boolean values, where we can use \"Black\" as \"1\" or \"True\" and \"White\" as \"0\" or \"False\". So, we can use \"Numpy Array\" to represent the given images, more spcifically a \"Boolean Array\" since we are only using 2 values, rather than using an \"Integer Array\", since \"Boolean Array\" consume less space than \"Integer Array\" (Boolean array uses 1 Byte of memory per element, and Integer array uses 8 Bytes of memory per element)."
      ],
      "metadata": {
        "id": "8oSvUOTIT8y2"
      }
    },
    {
      "cell_type": "markdown",
      "source": [
        "Q2:\n",
        "\n",
        "Below is the code to generate fake simulated images with the above chosen data structure \"Numpy Arrays\"."
      ],
      "metadata": {
        "id": "E_OM00bieD6n"
      }
    },
    {
      "cell_type": "code",
      "execution_count": 13,
      "metadata": {
        "id": "SPOgrqVCMVgV"
      },
      "outputs": [],
      "source": [
        "import numpy as np\n",
        "\n",
        "# Image resolution in pixels, i.e. number of rows and columns\n",
        "pixelRows = 1000\n",
        "pixelCols = 1000\n",
        "\n",
        "# Function to generate fake simulated image data\n",
        "def gen_fakeImagePixelData(p, imgType):\n",
        "    # Total number of pixels in the fake image data\n",
        "    N = pixelRows * pixelCols\n",
        "    # Generate a random variable \"K\" which is greater than \"p%\" of \"N\", \n",
        "    # so that the generated fake image has \"p%\" of \"1\"s or \"0\"s as needed.\n",
        "    # This is needed, as we want atleast \"25%\" of the image to be parasite body\n",
        "    # and similarly for the dye region in the image.\n",
        "    K = np.random.randint(p * N, N + 1)\n",
        "    if (imgType == \"parasite\"):\n",
        "      # When image is parasite then the number of \"1\"s are greater than p% of N\n",
        "      # \"True\" represents \"1\"s and \"False\" represents \"0\"s\n",
        "      randPixels = np.array([True] * K + [False] * (N-K))\n",
        "    else:\n",
        "      # When it is dye image then the number of \"0\"s are greater than p% of N\n",
        "      # \"True\" represents \"1\"s and \"False\" represents \"0\"s\n",
        "      randPixels = np.array([False] * K + [True] * (N-K))\n",
        "    # Shuffling to randomize the image data generated\n",
        "    np.random.shuffle(randPixels)\n",
        "    # Re-shaping the 1D vector into the required 2D matrix\n",
        "    fakeImgPixels = np.reshape(randPixels, (pixelRows, pixelCols))\n",
        "\n",
        "    return fakeImgPixels\n"
      ]
    },
    {
      "cell_type": "markdown",
      "source": [
        "Q3:\n",
        "\n",
        "Below is the code to identify if the generated fake image has cancer or not and to compute the percentage of parasites which have cancer in the total sample collection."
      ],
      "metadata": {
        "id": "jn6LSILNfgJ5"
      }
    },
    {
      "cell_type": "code",
      "source": [
        "# Function to calculate the percentage of parasites which have cancer\n",
        "def findCancerPercetage():\n",
        "    parasiteCancer = False\n",
        "\n",
        "    # Obtain fake parasite image\n",
        "    parasitePixel = gen_fakeImagePixelData(p = 0.25, imgType = \"parasite\")\n",
        "    # Count the number of 1s to calculate the parasite body to the image ratio\n",
        "    parasitePixelOnesCount = np.count_nonzero(parasitePixel)\n",
        "    # Parasite body percentage\n",
        "    parasiteBodyPercentage = parasitePixelOnesCount/(pixelRows * pixelCols)\n",
        "\n",
        "    # Obtain fake dye image\n",
        "    dyePixel = gen_fakeImagePixelData(p = 0.905, imgType = \"dye\")\n",
        "\n",
        "    # Obtain the cancer regions inside the parasite body, \n",
        "    # so here we use \"Hadamard Product\" of both the images as it gives us \n",
        "    # the dye present only inside the parasite body and discards the \n",
        "    # dye leaked outside the body, as outer regions are 0s.\n",
        "    combinedPixelImage = np.multiply(parasitePixel, dyePixel)\n",
        "    # Count number of 1s to obtain the dye present inside the parasite body\n",
        "    cancerPixelOnesCount = np.count_nonzero(combinedPixelImage)\n",
        "    # Cancer percentage inside the parasite body\n",
        "    cancerPercentage = cancerPixelOnesCount / parasitePixelOnesCount\n",
        "\n",
        "    # Check if the parasite has cancer\n",
        "    # If the dye % in the parasite body is > 10% then it has cancer, else no\n",
        "    if (cancerPercentage > 0.1):\n",
        "      parasiteCancer = True\n",
        "    else:\n",
        "      parasiteCancer = False\n",
        "\n",
        "    return parasiteCancer\n",
        "\n",
        "# Initializing the counter to 0 to count number of parasites have cancer\n",
        "cancerPercentageCounter = 0\n",
        "# Number of samples being analyzed\n",
        "samples = 1000\n",
        "# Loop to check the number of parasites which have cancer\n",
        "for i in range(samples):\n",
        "    if (findCancerPercetage() == True):\n",
        "        # Incrementing the counter by 1, if the parasite has cancer\n",
        "        cancerPercentageCounter = cancerPercentageCounter + 1\n",
        "\n",
        "# Calculate the percentage\n",
        "cancerPercentage = ((cancerPercentageCounter / samples) * 100)\n",
        "print(\"Percentage of parasites which have cancer:\", cancerPercentage, \"%\")\n"
      ],
      "metadata": {
        "colab": {
          "base_uri": "https://localhost:8080/"
        },
        "id": "YKjfAllydn2Y",
        "outputId": "626e62ea-1453-4454-aac2-3ef9aa26d320"
      },
      "execution_count": 14,
      "outputs": [
        {
          "output_type": "stream",
          "name": "stdout",
          "text": [
            "Percentage of parasites which have cancer: 0.0 %\n"
          ]
        }
      ]
    },
    {
      "cell_type": "markdown",
      "source": [
        "Q4:\n",
        "\n",
        "Considering the large size of the image data (100,000 x 100,000 pixels), it would take a lot of time to process the data just using cpu. So to speed up the computation we could use tensor array and gpu for processing. Below is the code with the usage of tensor array and gpu.\n",
        "\n",
        "For 1000 samples of 1000 x 1000 pixel image example I have considered, with the use of Numpy Arrays\", it took approximately 2 mins 27 sec to calculate the \"Percentage of parasites which have cancer\", but with the use of \"Tensor Array and GPU\" the compuation was done in less than a second."
      ],
      "metadata": {
        "id": "tla4pa5SaMKF"
      }
    },
    {
      "cell_type": "code",
      "source": [
        "import torch\n",
        "import numpy as np\n",
        "\n",
        "# Using GPU for faster processing\n",
        "cuda = torch.device('cuda')\n",
        "\n",
        "# Image resolution in pixels, i.e. number of rows and columns\n",
        "pixelRows = 1000\n",
        "pixelCols = 1000\n",
        "\n",
        "# Function to generate fake simulated image data\n",
        "def gen_fakeImagePixelDataTensor():\n",
        "    # Generate a tensor type 2D array, which has elemnts as true or false \n",
        "    # representing either parasite body or surrounding space.\n",
        "    # Here its compared with greater than or equal to \"0.25\", as we need \n",
        "    # minimum \"25%\" of the image to be the parasite body\n",
        "    parasitePixel = torch.rand((pixelRows, pixelCols), device = cuda) >= 0.25\n",
        "\n",
        "    # Generate a tensor type 2D array, which has elemnts as true or false \n",
        "    # representing either dye or no dye region\n",
        "    # Here we are generating a dye image with approx 10% of region with dye\n",
        "    dyePixel = torch.rand((pixelRows, pixelCols), device = cuda) > 0.90095\n",
        "\n",
        "    return (parasitePixel, dyePixel)\n",
        "\n",
        "# Function to calculate the percentage of parasites which have cancer\n",
        "def findCancerPercetageTensor():\n",
        "    parasiteCancer = False\n",
        "\n",
        "    # Obtain fake parasite and dye image\n",
        "    parasitePixel, dyePixel = gen_fakeImagePixelDataTensor()\n",
        "\n",
        "    # Count the number of 1s to calculate the parasite body to the image ratio\n",
        "    parasitePixelOnesCount = parasitePixel.eq(1).sum()\n",
        "    # Parasite body percentage\n",
        "    parasiteBodyPercentage = parasitePixelOnesCount/(pixelRows * pixelCols)\n",
        "\n",
        "    # Obtain the cancer regions inside the parasite body, \n",
        "    # so here we use \"Hadamard Product\" of both the images as it gives us \n",
        "    # the dye present only inside the parasite body and discards the \n",
        "    # dye leaked outside the body, as outer regions are 0s.\n",
        "    combinedPixelImage = torch.mul(parasitePixel, dyePixel)\n",
        "    # Count number of 1s to obtain the dye present inside the parasite body\n",
        "    cancerPixelOnesCount = combinedPixelImage.eq(1).sum()\n",
        "    # Cancer percentage inside the parasite body\n",
        "    cancerPercentage = cancerPixelOnesCount / parasitePixelOnesCount\n",
        "\n",
        "    # Check if the parasite has cancer\n",
        "    # If the dye % in the parasite body is > 10% then it has cancer, else no\n",
        "    if (cancerPercentage > 0.1):\n",
        "      parasiteCancer = True\n",
        "    else:\n",
        "      parasiteCancer = False\n",
        "\n",
        "    return parasiteCancer\n",
        "\n",
        "# Initializing the counter to 0 to count number of parasites have cancer\n",
        "cancerPercentageCounter = 0\n",
        "# Number of samples being analyzed\n",
        "samples = 1000\n",
        "# Loop to check the number of parasites which have cancer\n",
        "for i in range(samples):\n",
        "    if (findCancerPercetageTensor() == True):\n",
        "        # Incrementing the counter by 1, if the parasite has cancer\n",
        "        cancerPercentageCounter = cancerPercentageCounter + 1\n",
        "\n",
        "# Calculate the percentage\n",
        "cancerPercentage = ((cancerPercentageCounter / samples) * 100)\n",
        "print(\"Percentage of parasites which have cancer:\", cancerPercentage, \"%\")\n"
      ],
      "metadata": {
        "colab": {
          "base_uri": "https://localhost:8080/"
        },
        "id": "e4Fkdi-8OlOW",
        "outputId": "e0496475-02bd-4f2f-9452-316bdecd2faa"
      },
      "execution_count": 17,
      "outputs": [
        {
          "output_type": "stream",
          "name": "stdout",
          "text": [
            "Percentage of parasites which have cancer: 0.1 %\n"
          ]
        }
      ]
    }
  ]
}